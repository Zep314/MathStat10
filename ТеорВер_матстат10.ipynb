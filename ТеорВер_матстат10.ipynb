{
 "cells": [
  {
   "cell_type": "markdown",
   "id": "c23e201a",
   "metadata": {},
   "source": [
    "# Теория вероятностей и математическая статистика (семинары)\n",
    "## Урок 10. Дисперсионный анализ"
   ]
  },
  {
   "cell_type": "code",
   "execution_count": 1,
   "id": "183c7f98",
   "metadata": {},
   "outputs": [],
   "source": [
    "import scipy.stats as stats \n",
    "import numpy as np "
   ]
  },
  {
   "cell_type": "markdown",
   "id": "19de149c",
   "metadata": {},
   "source": [
    "## Задача 1\n",
    "Провести дисперсионный анализ для определения того, есть ли различия среднего роста среди взрослых футболистов, хоккеистов и штангистов. Даны значения роста в трех группах случайно выбранных спортсменов: \n",
    "\n",
    "Футболисты: 173, 175, 180, 178, 177, 185, 183, 182. \n",
    "\n",
    "Хоккеисты: 177, 179, 180, 188, 177, 172, 171, 184, 180. \n",
    "\n",
    "Штангисты: 172, 173, 169, 177, 166, 180, 178, 177, 172, 166, 170."
   ]
  },
  {
   "cell_type": "markdown",
   "id": "50fb4c88",
   "metadata": {},
   "source": [
    "### Решение"
   ]
  },
  {
   "cell_type": "code",
   "execution_count": 2,
   "id": "64287e41",
   "metadata": {},
   "outputs": [],
   "source": [
    "fb = np.array([173, 175, 180, 178, 177, 185, 183, 182])\n",
    "hk = np.array([177, 179, 180, 188, 177, 172, 171, 184, 180])\n",
    "pw = np.array([172, 173, 169, 177, 166, 180, 178, 177, 172, 166, 170])\n",
    "n1 = len(fb)\n",
    "n2 = len(hk)\n",
    "n3 = len(pw)"
   ]
  },
  {
   "cell_type": "markdown",
   "id": "69e08c26",
   "metadata": {},
   "source": [
    "Посмотрим на средние значения всех выборок"
   ]
  },
  {
   "cell_type": "code",
   "execution_count": 3,
   "id": "0cc0686b",
   "metadata": {},
   "outputs": [
    {
     "data": {
      "text/plain": [
       "(179.125, 178.66666666666666, 172.72727272727272)"
      ]
     },
     "execution_count": 3,
     "metadata": {},
     "output_type": "execute_result"
    }
   ],
   "source": [
    "fb_mean = fb.mean()\n",
    "hk_mean = hk.mean()\n",
    "pw_mean = pw.mean()\n",
    "fb_mean, hk_mean, pw_mean"
   ]
  },
  {
   "cell_type": "markdown",
   "id": "26b9533a",
   "metadata": {},
   "source": [
    "Средние значения роста хоккеистов и футболистов отличаются не сильно. Проверяем статистическую значимость отличий."
   ]
  },
  {
   "cell_type": "code",
   "execution_count": 4,
   "id": "4f06a5c0",
   "metadata": {},
   "outputs": [
    {
     "data": {
      "text/plain": [
       "176.46428571428572"
      ]
     },
     "execution_count": 4,
     "metadata": {},
     "output_type": "execute_result"
    }
   ],
   "source": [
    "all = np.hstack([fb, hk, pw])\n",
    "all_mean = all.mean()\n",
    "all_mean"
   ]
  },
  {
   "cell_type": "markdown",
   "id": "396ba4d6",
   "metadata": {},
   "source": [
    "Найдем значения $S_{F}^2$ и $S_{ост}^2$"
   ]
  },
  {
   "cell_type": "code",
   "execution_count": 5,
   "id": "987409f5",
   "metadata": {},
   "outputs": [
    {
     "data": {
      "text/plain": [
       "(253.9074675324678, 577.0568181818182)"
      ]
     },
     "execution_count": 5,
     "metadata": {},
     "output_type": "execute_result"
    }
   ],
   "source": [
    "S2_F = n1 * (fb_mean - all_mean) ** 2 + n2 * (hk_mean - all_mean) ** 2 + n3 * (pw_mean - all_mean) ** 2\n",
    "S2_rem = ((fb - fb_mean) ** 2).sum() + ((hk - hk_mean) ** 2).sum() + ((pw - pw_mean) ** 2).sum()\n",
    "S2_F, S2_rem"
   ]
  },
  {
   "cell_type": "markdown",
   "id": "537fc0a4",
   "metadata": {},
   "source": [
    "Проверим выполнение равенства: $S_{общ}^2 = S_{F}^2+S_{ост}^2$"
   ]
  },
  {
   "cell_type": "code",
   "execution_count": 6,
   "id": "91eb1097",
   "metadata": {},
   "outputs": [
    {
     "data": {
      "text/plain": [
       "830.964285714286"
      ]
     },
     "execution_count": 6,
     "metadata": {},
     "output_type": "execute_result"
    }
   ],
   "source": [
    "S2_F + S2_rem"
   ]
  },
  {
   "cell_type": "code",
   "execution_count": 7,
   "id": "1d168dc5",
   "metadata": {},
   "outputs": [
    {
     "data": {
      "text/plain": [
       "830.9642857142854"
      ]
     },
     "execution_count": 7,
     "metadata": {},
     "output_type": "execute_result"
    }
   ],
   "source": [
    "((all - all_mean) ** 2).sum()"
   ]
  },
  {
   "cell_type": "markdown",
   "id": "39896755",
   "metadata": {},
   "source": [
    "Запишем оценки дисперсий:"
   ]
  },
  {
   "cell_type": "code",
   "execution_count": 8,
   "id": "e4e94214",
   "metadata": {},
   "outputs": [
    {
     "data": {
      "text/plain": [
       "(126.9537337662339, 23.08227272727273)"
      ]
     },
     "execution_count": 8,
     "metadata": {},
     "output_type": "execute_result"
    }
   ],
   "source": [
    "k = 3\n",
    "n = n1 + n2 + n3\n",
    "\n",
    "k1 = k - 1\n",
    "k2 = n - k\n",
    "\n",
    "sigma2_F = S2_F / k1\n",
    "sigma2_rem = S2_rem / k2\n",
    "\n",
    "sigma2_F, sigma2_rem"
   ]
  },
  {
   "cell_type": "markdown",
   "id": "b2bd1621",
   "metadata": {},
   "source": [
    "Значение статистики критерия Фишера **F**:"
   ]
  },
  {
   "cell_type": "code",
   "execution_count": 10,
   "id": "87ff6550",
   "metadata": {},
   "outputs": [
    {
     "data": {
      "text/plain": [
       "5.500053450812598"
      ]
     },
     "execution_count": 10,
     "metadata": {},
     "output_type": "execute_result"
    }
   ],
   "source": [
    "F = sigma2_F / sigma2_rem\n",
    "F"
   ]
  },
  {
   "cell_type": "markdown",
   "id": "94103521",
   "metadata": {},
   "source": [
    "Зафиксируем уровень значимости α = 0.05. Для него найдём значение критерия Фишера $F_{crit}$"
   ]
  },
  {
   "cell_type": "code",
   "execution_count": 11,
   "id": "3fa4b031",
   "metadata": {},
   "outputs": [
    {
     "data": {
      "text/plain": [
       "3.3851899614491687"
      ]
     },
     "execution_count": 11,
     "metadata": {},
     "output_type": "execute_result"
    }
   ],
   "source": [
    "alpha = 0.05\n",
    "\n",
    "F_crit = stats.f.ppf(1 - alpha, k1, k2)\n",
    "F_crit"
   ]
  },
  {
   "cell_type": "markdown",
   "id": "28841842",
   "metadata": {},
   "source": [
    "Из вычислений видно, что $F > F_{crit}$, поэтому делаем заключение, что отличие среднего роста футболистов, хокеистов и штангистов действительно является статистически значимым"
   ]
  },
  {
   "cell_type": "markdown",
   "id": "3f8f1244",
   "metadata": {},
   "source": [
    "### Ответ:\n",
    "Отличия среднего роста среди футболистов, хоккеистов и штангистов являются статистически значимыми."
   ]
  },
  {
   "cell_type": "markdown",
   "id": "0943f43a",
   "metadata": {},
   "source": [
    "# \n",
    "## Задача 2\n",
    "В одной группе из 100 больных наблюдалось улучшение у 75, а в другой из 100 больных среди 69. Оценить с помощью доверительного интервала разность долей больных, у которых наблюдались улучшения."
   ]
  },
  {
   "cell_type": "markdown",
   "id": "7858b13e",
   "metadata": {},
   "source": [
    "### Решение"
   ]
  },
  {
   "cell_type": "markdown",
   "id": "42fbc7f3",
   "metadata": {},
   "source": [
    "Доверительный интервал вычисляется по формуле:\n",
    "\n",
    "$\\Delta  \\pm Z_{\\frac{α}{2}}\\cdot S_\\Delta $\n",
    "\n",
    "$\\Delta  = \\hat{p_1} - \\hat{p_2}$\n",
    "\n",
    "$S_\\Delta  = \\sqrt{p_{общ} \\cdot \\left (  1 - p_{общ} \\right ) \\cdot \\left ( {\\frac{1}{n_1} + \\frac{1}{n_2}}\\right )} $\n",
    "\n",
    "$p_{общ} = \\frac{m_{1}+m_{2}}{n_{1}+n_{2}}$"
   ]
  },
  {
   "cell_type": "code",
   "execution_count": 12,
   "id": "f6f7ae4b",
   "metadata": {},
   "outputs": [
    {
     "data": {
      "text/plain": [
       "(0.75, 0.69)"
      ]
     },
     "execution_count": 12,
     "metadata": {},
     "output_type": "execute_result"
    }
   ],
   "source": [
    "m1 = 75\n",
    "n1 = 100\n",
    "m2 = 69\n",
    "n2 = 100\n",
    "p1 = m1/n1\n",
    "p2 = m2/n2\n",
    "p1, p2"
   ]
  },
  {
   "cell_type": "code",
   "execution_count": 13,
   "id": "8b7dbb31",
   "metadata": {},
   "outputs": [
    {
     "data": {
      "text/plain": [
       "(0.06000000000000005, 0.72)"
      ]
     },
     "execution_count": 13,
     "metadata": {},
     "output_type": "execute_result"
    }
   ],
   "source": [
    "delta = p1 - p2\n",
    "p_all = (m1+m2)/(n1+n2)\n",
    "delta, p_all"
   ]
  },
  {
   "cell_type": "code",
   "execution_count": 14,
   "id": "1eb1210e",
   "metadata": {},
   "outputs": [
    {
     "data": {
      "text/plain": [
       "0.06349803146555018"
      ]
     },
     "execution_count": 14,
     "metadata": {},
     "output_type": "execute_result"
    }
   ],
   "source": [
    "S_delta = np.sqrt(p_all*(1-p_all)*(1/n1+1/n2))\n",
    "S_delta"
   ]
  },
  {
   "cell_type": "markdown",
   "id": "f38c3eb0",
   "metadata": {},
   "source": [
    "В задаче не указано занчение α, поэтому возьмем стандартное: α = 0.05\n",
    "\n",
    "Доверительный интервал считаем $\\left ( 1 - \\frac{α}{2}\\right ) = 1 - \\frac{0,05}{2} = 1 - 0.025 = 0.975$ \n",
    "\n",
    "Z − критерий для значения 0.975 равен 1.96."
   ]
  },
  {
   "cell_type": "markdown",
   "id": "ab6d82e2",
   "metadata": {},
   "source": [
    "Доверительный интервал:\n",
    "\n",
    "$\\Delta \\pm Z_{\\frac{α}{2}}\\cdot S_\\Delta = 0.06 \\pm 1.96 \\cdot 0.06 = 0.06 \\pm 0.12$"
   ]
  },
  {
   "cell_type": "code",
   "execution_count": 15,
   "id": "078248ed",
   "metadata": {},
   "outputs": [
    {
     "data": {
      "text/plain": [
       "-0.06"
      ]
     },
     "execution_count": 15,
     "metadata": {},
     "output_type": "execute_result"
    }
   ],
   "source": [
    "#Левая граница интервала: \n",
    "0.06 - 0.12"
   ]
  },
  {
   "cell_type": "code",
   "execution_count": 16,
   "id": "1debd305",
   "metadata": {},
   "outputs": [
    {
     "data": {
      "text/plain": [
       "0.18"
      ]
     },
     "execution_count": 16,
     "metadata": {},
     "output_type": "execute_result"
    }
   ],
   "source": [
    "#Правая граница интервала:\n",
    "0.06 + 0.12"
   ]
  },
  {
   "cell_type": "markdown",
   "id": "f3700e7e",
   "metadata": {},
   "source": [
    "Для оценки статистически значимых различий вычислим Z наблюдаемое.\n",
    "\n",
    "$Z_{набл}=\\frac{\\left |\\hat{p_1} - \\hat{p_2}\\right | - \\frac{1}{2} \\cdot \\left ( {\\frac{1}{n_1} + \\frac{1}{n_2}}\\right )}{\\sqrt{p_{общ} \\cdot \\left (  1 - p_{общ} \\right ) \\cdot \\left ( {\\frac{1}{n_1} + \\frac{1}{n_2}}\\right )}}$"
   ]
  },
  {
   "cell_type": "code",
   "execution_count": 17,
   "id": "d06f08d7",
   "metadata": {},
   "outputs": [
    {
     "data": {
      "text/plain": [
       "0.7874259854358908"
      ]
     },
     "execution_count": 17,
     "metadata": {},
     "output_type": "execute_result"
    }
   ],
   "source": [
    "Z_N =  (np.abs(p1-p2)-0.5*(1/n1+1/n2)) / np.sqrt(p_all*(1-p_all)*(1/n1+1/n2))\n",
    "Z_N"
   ]
  },
  {
   "cell_type": "markdown",
   "id": "7bbeb2cf",
   "metadata": {},
   "source": [
    "Получилось, что 0,79 = $Z_{набл}$ < Z = 1,96. Отсюда можно сделать вывод, что вычисленное значение $Z_{набл}$ попадает в доверительный интервал, что позволяет нам заявить, что статистически значимых различий — нет."
   ]
  },
  {
   "cell_type": "markdown",
   "id": "8e745c42",
   "metadata": {},
   "source": [
    "### Ответ:\n",
    "Доверительный интервал лежит в промежутке (−0,06; 0,18). Статистически значимых различий не обнаружено."
   ]
  },
  {
   "cell_type": "markdown",
   "id": "66d5fbca",
   "metadata": {},
   "source": [
    "# \n",
    "## Задача 3\n",
    "Какова вероятность, что в наудачу выбранном двузначном числе цифры одинаковые?"
   ]
  },
  {
   "cell_type": "markdown",
   "id": "058ef4c9",
   "metadata": {},
   "source": [
    "### Решение"
   ]
  },
  {
   "cell_type": "markdown",
   "id": "5f5133d3",
   "metadata": {},
   "source": [
    "Всего двузначных чисел: 100 - 10 = 90. Всего двузначных числел с одинаковыми циврами - 9 (вариант с двумя нулями - некорректен). Значит вероятность будет такой:\n",
    "\n",
    "$ P(A)= \\frac {9}{90} = \\frac {1}{10} = 0.1$"
   ]
  },
  {
   "cell_type": "markdown",
   "id": "82f6238c",
   "metadata": {},
   "source": [
    "### Ответ:\n",
    "P(A) = 0.1"
   ]
  },
  {
   "cell_type": "code",
   "execution_count": null,
   "id": "df924ad0",
   "metadata": {},
   "outputs": [],
   "source": []
  },
  {
   "cell_type": "code",
   "execution_count": null,
   "id": "49940568",
   "metadata": {},
   "outputs": [],
   "source": []
  }
 ],
 "metadata": {
  "kernelspec": {
   "display_name": "Python 3 (ipykernel)",
   "language": "python",
   "name": "python3"
  },
  "language_info": {
   "codemirror_mode": {
    "name": "ipython",
    "version": 3
   },
   "file_extension": ".py",
   "mimetype": "text/x-python",
   "name": "python",
   "nbconvert_exporter": "python",
   "pygments_lexer": "ipython3",
   "version": "3.9.12"
  }
 },
 "nbformat": 4,
 "nbformat_minor": 5
}
